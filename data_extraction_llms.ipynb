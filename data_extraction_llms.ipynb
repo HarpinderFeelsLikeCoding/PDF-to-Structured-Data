{
 "cells": [
  {
   "cell_type": "code",
   "execution_count": null,
   "metadata": {},
   "outputs": [],
   "source": [
    "!pip3 install --upgrade --quiet langchain langchain-community langchain-openai chromadb\n",
    "!pip3 install --upgrade --quiet pypdf pandas streamlit python-dotenv"
   ]
  },
  {
   "cell_type": "code",
   "execution_count": 34,
   "metadata": {},
   "outputs": [],
   "source": [
    "\n",
    "from langchain.document_loaders import PyPDFLoader\n",
    "from langchain.text_splitter import RecursiveCharacterTextSplitter\n",
    "from langchain_openai import OpenAIEmbeddings, ChatOpenAI\n",
    "from langchain.vectorstores import Chroma\n",
    "from langchain_core.runnables import RunnablePassthrough\n",
    "from langchain_core.prompts import ChatPromptTemplate\n",
    "from langchain_core.pydantic_v1 import BaseModel, Field\n",
    "\n",
    "import os\n",
    "import tempfile\n",
    "import streamlit as st\n",
    "import pandas as pd\n",
    "from dotenv import load_dotenv\n",
    "\n"
   ]
  },
  {
   "cell_type": "code",
   "execution_count": null,
   "metadata": {},
   "outputs": [],
   "source": [
    "\n",
    "load_dotenv()\n"
   ]
  },
  {
   "cell_type": "code",
   "execution_count": 70,
   "metadata": {},
   "outputs": [],
   "source": [
    "\n",
    "OPENAI_API_KEY=os.environ.get(\"OPENAI_API_KEY\")\n"
   ]
  },
  {
   "cell_type": "code",
   "execution_count": null,
   "metadata": {},
   "outputs": [],
   "source": [
    "#Define our LLM\n",
    "llm = ChatOpenAI(model=\"gpt-4o-mini\", api_key=OPENAI_API_KEY)\n",
    "llm.invoke(\"Tell me a joke about cats please\")"
   ]
  },
  {
   "cell_type": "code",
   "execution_count": null,
   "metadata": {},
   "outputs": [],
   "source": [
    "## Process the PDF Document\n",
    "loader = PyPDFLoader('data/Annie Jacobsen - Operation Paperclip. The Secret Intelligence Program that Brought Nazi Scientists to America - 2014.pdf')\n",
    "pages= loader.load()\n",
    "pages"
   ]
  },
  {
   "cell_type": "code",
   "execution_count": 67,
   "metadata": {},
   "outputs": [],
   "source": [
    "## Split Document\n",
    "text_splitter = RecursiveCharacterTextSplitter(chunk_size=1500,\n",
    "                                               chunk_overlap=200,\n",
    "                                               length_function=len,\n",
    "                                               separators= [\"\\n\\n\", '\\n', \" \"])\n",
    "chunks = text_splitter.split_documents(pages)"
   ]
  },
  {
   "cell_type": "code",
   "execution_count": 66,
   "metadata": {},
   "outputs": [],
   "source": [
    "## Create Embeddings\n",
    "\n",
    "def get_embedding_function():\n",
    "    embeddings = OpenAIEmbeddings(\n",
    "        model= \"text-embedding-ada-002\", openai_api_key=OPENAI_API_KEY\n",
    "    )\n",
    "    return embeddings\n",
    "\n",
    "embedding_function = get_embedding_function()\n",
    "test_vector= embedding_function.embed_query('cat')\n"
   ]
  },
  {
   "cell_type": "code",
   "execution_count": null,
   "metadata": {},
   "outputs": [],
   "source": [
    "from langchain.evaluation import load_evaluator\n",
    "\n",
    "evaluator = load_evaluator(evaluator=\"embedding_distance\",\n",
    "                           embeddings = embedding_function)\n",
    "\n",
    "evaluator.evaluate_strings(prediction = \"Nazi\", reference = \"German\")"
   ]
  },
  {
   "cell_type": "code",
   "execution_count": null,
   "metadata": {},
   "outputs": [],
   "source": [
    "evaluator.evaluate_strings(prediction = \"Nazi\", reference = \"American\")"
   ]
  },
  {
   "cell_type": "code",
   "execution_count": 76,
   "metadata": {},
   "outputs": [],
   "source": [
    "## Create A Vector database\n",
    "\n",
    "import uuid\n",
    "\n",
    "def create_vectorstore(chunks, embedding_function, vectorstore_path):\n",
    "\n",
    "    #create a list if unique ids for each document bsed on the content\n",
    "    ids = [str(uuid.uuid5(uuid.NAMESPACE_DNS, doc.page_content)) for doc in chunks]\n",
    "\n",
    "    #ensure that only unique docs with unique ids are kept\n",
    "    unique_ids = set()\n",
    "    unique_chunks = []\n",
    "\n",
    "    unique_chunks = []\n",
    "    for chunk, id in zip(chunks,ids):\n",
    "         if id not in unique_ids:\n",
    "              unique_ids.add(id)\n",
    "              unique_chunks.append(chunk)\n",
    "\n",
    "    \n",
    "    # Create a New Chroma Database for the documents\n",
    "    vectorstore = Chroma.from_documents(documents=unique_chunks,\n",
    "                                        ids = list(unique_ids),\n",
    "                                        embedding=embedding_function,\n",
    "                                        persist_directory=vectorstore_path)\n",
    "    \n",
    "    vectorstore.persist()\n",
    "\n",
    "    return vectorstore\n",
    "\n",
    "\n"
   ]
  },
  {
   "cell_type": "code",
   "execution_count": null,
   "metadata": {},
   "outputs": [],
   "source": [
    "#create a vecotr store\n",
    "vectorstore = create_vectorstore(chunks=chunks,\n",
    "                                  embedding_function=embedding_function,\n",
    "                                  vectorstore_path=\"vectorstore_chroma\")\n",
    "\n"
   ]
  },
  {
   "cell_type": "code",
   "execution_count": 78,
   "metadata": {},
   "outputs": [],
   "source": [
    "# Load vectorestore\n",
    "vectorstore= Chroma(persist_directory=\"vectorstore_chroma\", embedding_function=embedding_function)"
   ]
  },
  {
   "cell_type": "code",
   "execution_count": null,
   "metadata": {},
   "outputs": [],
   "source": [
    "# Create retirever and get relevant chunks\n",
    "retriever = vectorstore.as_retriever(search_type='similarity')\n",
    "relevant_chunks = retriever.invoke('What is the title of the book?')\n",
    "relevant_chunks"
   ]
  },
  {
   "cell_type": "code",
   "execution_count": 80,
   "metadata": {},
   "outputs": [],
   "source": [
    "# Prompt Template\n",
    "PROMPT_TEMPLATE = \"\"\"\n",
    "You are an assistant for question-answering tasks. \n",
    "Use the following pieces of retireved context to answer\n",
    "the quesion. If you don't know the answer, say that you don't\n",
    "know. DON'T MAKE UP ANYTHING.\n",
    "\n",
    "{context}\n",
    "\n",
    "---\n",
    "\n",
    "Answer the question based on the context above: {question}\n",
    "\"\"\""
   ]
  },
  {
   "cell_type": "code",
   "execution_count": 82,
   "metadata": {},
   "outputs": [
    {
     "name": "stdout",
     "output_type": "stream",
     "text": [
      "Human: \n",
      "You are an assistant for question-answering tasks. \n",
      "Use the following pieces of retireved context to answer\n",
      "the quesion. If you don't know the answer, say that you don't\n",
      "know. DON'T MAKE UP ANYTHING.\n",
      "\n",
      "CONTENTS\n",
      "Cover\n",
      "Title Page\n",
      "Welcome\n",
      "Dedication\n",
      "Prologue\n",
      "Part I\n",
      "Chapter 1     The War and the Weapons\n",
      "Chapter 2     Destruction\n",
      "Chapter 3     The Hunters and the Hunted\n",
      "Chapter 4     Liberation\n",
      "Chapter 5     The Captured and Their Interrogators\n",
      "Part II\n",
      "Chapter 6     Harnessing the Chariot of Destruction\n",
      "Chapter 7     Hitler’s Doctors\n",
      "Chapter 8      Black, White, and Gray\n",
      "Chapter 9     Hitler’s Chemists\n",
      "Chapter 10   Hired or Hanged\n",
      "\n",
      "---\n",
      "\n",
      "Begin Reading\n",
      "Table of Contents\n",
      "Photos\n",
      "Newsletters\n",
      "Copyright Page\n",
      "In accordance with the U.S. Copyright Act of 1976, the scanning, uploading,\n",
      "and electronic sharing of any part of this book without the permission of the\n",
      "publisher constitute unlawful piracy and theft of the author’s intellectual\n",
      "property. If you would like to use material from the book (other than for\n",
      "review purposes), prior written permission must be obtained by contacting\n",
      "the publisher at permissions@hbgusa.com. Thank you for your support of the\n",
      "author’s rights.\n",
      "\n",
      "---\n",
      "\n",
      "Thank you for buying this ebook,\n",
      "published by Hachette Digital.\n",
      "To receive special oﬀers, bonus content, and news\n",
      "about our latest ebooks and apps, sign up for our\n",
      "newsletters.\n",
      "Sign Up\n",
      "Or visit us at hachettebookgroup.com/newsletters\n",
      "For more about this book and author, visit\n",
      "Bookish.com.\n",
      "\n",
      "---\n",
      "\n",
      "Copyright\n",
      "Copyright © 2014 by Anne M. Jacobsen\n",
      "Cover design by Ben Wiseman\n",
      "Author photograph by Hilary Jones\n",
      "Cover copyright © 2014 by Hachette Book Group\n",
      "All rights reserved. In accordance with the U.S. Copyright\n",
      "Act of 1976, the scanning, uploading, and electronic\n",
      "sharing of any part of this book without the permission of\n",
      "the publisher constitute unlawful piracy and theft of the\n",
      "author’s intellectual property. If you would like to use\n",
      "material from the book (other than for review purposes),\n",
      "prior written permission must be obtained by contacting\n",
      "the publisher at permissions@hbgusa.com. Thank you for\n",
      "your support of the author’s rights.\n",
      "Little, Brown and Company\n",
      "Hachette Book Group\n",
      "237 Park Avenue, New York, NY 10017\n",
      "littlebrown.com\n",
      "twitter.com/littlebrown\n",
      "facebook.com/littlebrownandcompany\n",
      "First ebook edition: February 2014\n",
      "Little, Brown and Company is a division of Hachette Book\n",
      "Group, Inc. The Little, Brown name and logo are\n",
      "trademarks of Hachette Book Group, Inc.\n",
      "The Hachette Speakers Bureau provides a wide range of\n",
      "authors for speaking events. To ﬁnd out more, go to\n",
      "hachettespeakersbureau.com or call (866) 376-6591.\n",
      "\n",
      "---\n",
      "\n",
      "Answer the question based on the context above: What is the title of the book\n",
      "\n"
     ]
    }
   ],
   "source": [
    "#concatenate context text\n",
    "context_text = \"\\n\\n---\\n\\n\".join([doc.page_content for doc in relevant_chunks])\n",
    "\n",
    "#create prompt \n",
    "prompt_template = ChatPromptTemplate.from_template(PROMPT_TEMPLATE)\n",
    "prompt = prompt_template.format(context=context_text,\n",
    "                                question= \"What is the title of the book\")\n",
    "print(prompt)"
   ]
  },
  {
   "cell_type": "code",
   "execution_count": 83,
   "metadata": {},
   "outputs": [
    {
     "data": {
      "text/plain": [
       "AIMessage(content='The title of the book is not provided in the retrieved context.', additional_kwargs={'refusal': None}, response_metadata={'token_usage': {'completion_tokens': 14, 'prompt_tokens': 674, 'total_tokens': 688, 'completion_tokens_details': {'accepted_prediction_tokens': 0, 'audio_tokens': 0, 'reasoning_tokens': 0, 'rejected_prediction_tokens': 0}, 'prompt_tokens_details': {'audio_tokens': 0, 'cached_tokens': 0}}, 'model_name': 'gpt-4o-mini-2024-07-18', 'system_fingerprint': 'fp_0aa8d3e20b', 'finish_reason': 'stop', 'logprobs': None}, id='run-ed372fd4-70e2-49ad-a935-92011d99af01-0', usage_metadata={'input_tokens': 674, 'output_tokens': 14, 'total_tokens': 688, 'input_token_details': {'audio': 0, 'cache_read': 0}, 'output_token_details': {'audio': 0, 'reasoning': 0}})"
      ]
     },
     "execution_count": 83,
     "metadata": {},
     "output_type": "execute_result"
    }
   ],
   "source": [
    "#generate rsponses\n",
    "llm.invoke(prompt)"
   ]
  },
  {
   "cell_type": "code",
   "execution_count": 84,
   "metadata": {},
   "outputs": [
    {
     "data": {
      "text/plain": [
       "AIMessage(content=\"The book, published by Hachette Digital, is copyrighted in 2014 by Anne M. Jacobsen and is associated with Little, Brown and Company, a division of Hachette Book Group. The ebook edition was first released in February 2014. The content includes various chapters that explore themes such as war, destruction, and the roles of different figures during that time, including Hitler's doctors and chemists. For more information about the book and its author, readers are directed to visit Bookish.com. Additionally, the publisher emphasizes the importance of respecting copyright and the author's rights, stating that any unauthorized sharing of the book's material constitutes unlawful piracy.\", additional_kwargs={'refusal': None}, response_metadata={'token_usage': {'completion_tokens': 134, 'prompt_tokens': 672, 'total_tokens': 806, 'completion_tokens_details': {'accepted_prediction_tokens': 0, 'audio_tokens': 0, 'reasoning_tokens': 0, 'rejected_prediction_tokens': 0}, 'prompt_tokens_details': {'audio_tokens': 0, 'cached_tokens': 0}}, 'model_name': 'gpt-4o-mini-2024-07-18', 'system_fingerprint': 'fp_0aa8d3e20b', 'finish_reason': 'stop', 'logprobs': None}, id='run-7719c465-60e3-46a6-96f8-9aaa3f2e7811-0', usage_metadata={'input_tokens': 672, 'output_tokens': 134, 'total_tokens': 806, 'input_token_details': {'audio': 0, 'cache_read': 0}, 'output_token_details': {'audio': 0, 'reasoning': 0}})"
      ]
     },
     "execution_count": 84,
     "metadata": {},
     "output_type": "execute_result"
    }
   ],
   "source": [
    "#uing langchain expression lnaguage\n",
    "def format_docs(docs):\n",
    "    return \"\\n\\n\".join(doc.page_content for doc in docs)\n",
    "\n",
    "rag_chain = (\n",
    "    {\"context\": retriever | format_docs, \"question\": RunnablePassthrough()}\n",
    "    | prompt_template\n",
    "    | llm\n",
    ")\n",
    "rag_chain.invoke(\"Give me a paragraph of information about this book please\")\n"
   ]
  },
  {
   "cell_type": "code",
   "execution_count": 85,
   "metadata": {},
   "outputs": [],
   "source": [
    "## Generate structured response\n",
    "class AnswerWithSources(BaseModel):\n",
    "    \"\"\"An answer to the question with sources and reasoning\"\"\"\n",
    "    answer: str=Field(description=\"answer to question\")\n",
    "    sources: str = Field(description = \"full direct tect chunk from the context used to answer the question\")\n",
    "    reasoning: str = Field(description=\"explain the reasoning of the asnwer based on the sources\")\n",
    "\n",
    "class ExtractedInfo(BaseModel):\n",
    "    \"\"\"Extracted information about the research article\"\"\"\n",
    "    paper_title: AnswerWithSources\n",
    "    paper_summary: AnswerWithSources\n",
    "    publication_year: AnswerWithSources\n",
    "    paper_authors: AnswerWithSources"
   ]
  },
  {
   "cell_type": "code",
   "execution_count": 86,
   "metadata": {},
   "outputs": [
    {
     "data": {
      "text/plain": [
       "ExtractedInfo(paper_title=AnswerWithSources(answer='The title of the paper is not explicitly mentioned in the provided context.', sources='', reasoning='The context provided does not contain a specific title for a paper, but rather appears to be an excerpt from a book.'), paper_summary=AnswerWithSources(answer='The summary of the paper is not available in the provided context.', sources='', reasoning='The context provided includes a table of contents and copyright information but does not include a summary of the paper.'), publication_year=AnswerWithSources(answer='2014', sources='Copyright © 2014 by Anne M. Jacobsen', reasoning='The copyright information states that it was published in 2014.'), paper_authors=AnswerWithSources(answer='Anne M. Jacobsen', sources='Copyright © 2014 by Anne M. Jacobsen', reasoning='The copyright information indicates that Anne M. Jacobsen is the author.'))"
      ]
     },
     "execution_count": 86,
     "metadata": {},
     "output_type": "execute_result"
    }
   ],
   "source": [
    "rag_chain = (\n",
    "        {\"context\": retriever | format_docs, \"question\": RunnablePassthrough()}\n",
    "        | prompt_template\n",
    "        | llm.with_structured_output(ExtractedInfo, strict=True)\n",
    "    )\n",
    "rag_chain.invoke(\"Give me the title, summary, publication date, authors of the paper please.\")"
   ]
  },
  {
   "cell_type": "code",
   "execution_count": 87,
   "metadata": {},
   "outputs": [
    {
     "data": {
      "text/html": [
       "<div>\n",
       "<style scoped>\n",
       "    .dataframe tbody tr th:only-of-type {\n",
       "        vertical-align: middle;\n",
       "    }\n",
       "\n",
       "    .dataframe tbody tr th {\n",
       "        vertical-align: top;\n",
       "    }\n",
       "\n",
       "    .dataframe thead th {\n",
       "        text-align: right;\n",
       "    }\n",
       "</style>\n",
       "<table border=\"1\" class=\"dataframe\">\n",
       "  <thead>\n",
       "    <tr style=\"text-align: right;\">\n",
       "      <th></th>\n",
       "      <th>paper_title</th>\n",
       "      <th>paper_summary</th>\n",
       "      <th>publication_year</th>\n",
       "      <th>paper_authors</th>\n",
       "    </tr>\n",
       "  </thead>\n",
       "  <tbody>\n",
       "    <tr>\n",
       "      <th>answer</th>\n",
       "      <td>The title of the research paper is not explici...</td>\n",
       "      <td>A summary of the research paper is not provide...</td>\n",
       "      <td>2014</td>\n",
       "      <td>Anne M. Jacobsen</td>\n",
       "    </tr>\n",
       "    <tr>\n",
       "      <th>source</th>\n",
       "      <td>N/A</td>\n",
       "      <td>N/A</td>\n",
       "      <td>Copyright © 2014 by Anne M. Jacobsen</td>\n",
       "      <td>Copyright © 2014 by Anne M. Jacobsen</td>\n",
       "    </tr>\n",
       "    <tr>\n",
       "      <th>reasoning</th>\n",
       "      <td>The context does not include a specific title ...</td>\n",
       "      <td>The provided context does not include a summar...</td>\n",
       "      <td>The copyright information indicates that the w...</td>\n",
       "      <td>The copyright information names Anne M. Jacobs...</td>\n",
       "    </tr>\n",
       "  </tbody>\n",
       "</table>\n",
       "</div>"
      ],
      "text/plain": [
       "                                                 paper_title  \\\n",
       "answer     The title of the research paper is not explici...   \n",
       "source                                                   N/A   \n",
       "reasoning  The context does not include a specific title ...   \n",
       "\n",
       "                                               paper_summary  \\\n",
       "answer     A summary of the research paper is not provide...   \n",
       "source                                                   N/A   \n",
       "reasoning  The provided context does not include a summar...   \n",
       "\n",
       "                                            publication_year  \\\n",
       "answer                                                  2014   \n",
       "source                  Copyright © 2014 by Anne M. Jacobsen   \n",
       "reasoning  The copyright information indicates that the w...   \n",
       "\n",
       "                                               paper_authors  \n",
       "answer                                      Anne M. Jacobsen  \n",
       "source                  Copyright © 2014 by Anne M. Jacobsen  \n",
       "reasoning  The copyright information names Anne M. Jacobs...  "
      ]
     },
     "execution_count": 87,
     "metadata": {},
     "output_type": "execute_result"
    }
   ],
   "source": [
    "#transform response into a dataframe\n",
    "\n",
    "structured_response = rag_chain.invoke(\"Give me the title, summary, publication date, authors of the research paper.\")\n",
    "df = pd.DataFrame([structured_response.dict()])\n",
    "\n",
    "answer_row = []\n",
    "source_row =[]\n",
    "reasoning_row = []\n",
    "\n",
    "for col in df.columns:\n",
    "    answer_row.append(df[col][0]['answer'])\n",
    "    source_row.append(df[col][0]['sources'])\n",
    "    reasoning_row.append(df[col][0]['reasoning'])\n",
    "\n",
    "#create new dataframe with 2 rows: answers and source_row\n",
    "structured_response_df = pd.DataFrame([answer_row, source_row, reasoning_row], columns=df.columns, index=['answer','source','reasoning'])\n",
    "structured_response_df"
   ]
  }
 ],
 "metadata": {
  "kernelspec": {
   "display_name": "myenv",
   "language": "python",
   "name": "python3"
  },
  "language_info": {
   "codemirror_mode": {
    "name": "ipython",
    "version": 3
   },
   "file_extension": ".py",
   "mimetype": "text/x-python",
   "name": "python",
   "nbconvert_exporter": "python",
   "pygments_lexer": "ipython3",
   "version": "3.11.8"
  }
 },
 "nbformat": 4,
 "nbformat_minor": 2
}
